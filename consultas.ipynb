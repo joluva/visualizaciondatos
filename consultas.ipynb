{
 "cells": [
  {
   "cell_type": "markdown",
   "id": "87776c00",
   "metadata": {},
   "source": [
    "# Análisis de datos de consultas medicas ambulatorias "
   ]
  },
  {
   "cell_type": "code",
   "execution_count": 2,
   "id": "0c2e56cb",
   "metadata": {},
   "outputs": [],
   "source": [
    "import pandas as pandas\n",
    "import numpy as np\n",
    "import matplotlib.pyplot as plt\n",
    "import seaborn as sns\n",
    "import os\n",
    "\n"
   ]
  }
 ],
 "metadata": {
  "kernelspec": {
   "display_name": "venv",
   "language": "python",
   "name": "python3"
  },
  "language_info": {
   "codemirror_mode": {
    "name": "ipython",
    "version": 3
   },
   "file_extension": ".py",
   "mimetype": "text/x-python",
   "name": "python",
   "nbconvert_exporter": "python",
   "pygments_lexer": "ipython3",
   "version": "3.10.12"
  }
 },
 "nbformat": 4,
 "nbformat_minor": 5
}
